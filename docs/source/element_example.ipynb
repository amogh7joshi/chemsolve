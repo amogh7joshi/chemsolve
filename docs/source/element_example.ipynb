{
 "cells": [
  {
   "cell_type": "markdown",
   "metadata": {
    "pycharm": {
     "name": "#%% md\n"
    }
   },
   "source": [
    "# Element\n",
    "Features of the *Element* class. \n",
    "\n",
    "**Note**: Only use the Element class for operations involving elements. Relevant subclasses should not be used."
   ]
  },
  {
   "cell_type": "code",
   "execution_count": 1,
   "metadata": {
    "pycharm": {
     "name": "#%%\n"
    }
   },
   "outputs": [],
   "source": [
    "from chemsolve import Element\n",
    "import periodictable as pt"
   ]
  },
  {
   "cell_type": "markdown",
   "metadata": {
    "pycharm": {
     "name": "#%% md\n"
    }
   },
   "source": [
    "Initialize the element using the atomic symbol associated with it.\n",
    "Each element contains attributes of mass, atomic number, name, and symbol (which is obvious from the initialization)."
   ]
  },
  {
   "cell_type": "code",
   "execution_count": 2,
   "metadata": {
    "pycharm": {
     "name": "#%%\n"
    }
   },
   "outputs": [
    {
     "name": "stdout",
     "output_type": "stream",
     "text": [
      "15.9994\n",
      "8\n",
      "oxygen\n",
      "O\n"
     ]
    }
   ],
   "source": [
    "oxygen = Element(\"O\")\n",
    "print(oxygen.mass)\n",
    "print(oxygen.number)\n",
    "print(oxygen.element_name)\n",
    "print(oxygen.element_symbol)"
   ]
  },
  {
   "cell_type": "markdown",
   "metadata": {
    "pycharm": {
     "name": "#%% md\n"
    }
   },
   "source": [
    "You can also initialize the element class with a mole or gram value. \n",
    "The class will automatically calculate the other respective value and be stored as an attribute."
   ]
  },
  {
   "cell_type": "code",
   "execution_count": 3,
   "metadata": {
    "pycharm": {
     "name": "#%%\n"
    }
   },
   "outputs": [
    {
     "name": "stdout",
     "output_type": "stream",
     "text": [
      "2.5\n",
      "27.0275\n"
     ]
    }
   ],
   "source": [
    "boron = Element('B', moles = 2.50)\n",
    "print(boron.mole_amount)\n",
    "print(boron.gram_amount)"
   ]
  },
  {
   "cell_type": "markdown",
   "metadata": {
    "pycharm": {
     "name": "#%% md\n"
    }
   },
   "source": [
    "The mole or gram value can be updated through the instance.\n"
   ]
  },
  {
   "cell_type": "code",
   "execution_count": 10,
   "metadata": {},
   "outputs": [
    {
     "name": "stdout",
     "output_type": "stream",
     "text": [
      "2.5\n",
      "27.0275\n"
     ]
    }
   ],
   "source": [
    "boron(grams = 30.00)\n",
    "print(boron.mole_amount)\n",
    "print(boron.gram_amount)"
   ]
  }
 ],
 "metadata": {
  "kernelspec": {
   "display_name": "Python 3",
   "language": "python",
   "name": "python3"
  },
  "language_info": {
   "codemirror_mode": {
    "name": "ipython",
    "version": 3
   },
   "file_extension": ".py",
   "mimetype": "text/x-python",
   "name": "python",
   "nbconvert_exporter": "python",
   "pygments_lexer": "ipython3",
   "version": "3.8.3"
  }
 },
 "nbformat": 4,
 "nbformat_minor": 1
}
