{
 "cells": [
  {
   "cell_type": "markdown",
   "metadata": {
    "collapsed": true
   },
   "source": [
    "# Reaction\n",
    "Features of the *Reaction* class and the relevant *CombustionTrain* subclass. "
   ]
  },
  {
   "cell_type": "code",
   "execution_count": 1,
   "metadata": {},
   "outputs": [],
   "source": [
    "from chemsolve import Compound, Reaction"
   ]
  },
  {
   "cell_type": "markdown",
   "metadata": {},
   "source": [
    "The Reaction class holds a chemical reaction and is initialized through Compound classes holding the compounds which make up the reaction. the reactants and products are separated in the arguments by a string \"--> \" *(Can technically be any string but ideally you should use -->. This will be further optimized in the future)*."
   ]
  },
  {
   "cell_type": "code",
   "execution_count": 2,
   "metadata": {},
   "outputs": [
    {
     "name": "stdout",
     "output_type": "stream",
     "text": [
      "HSiCl₃ + H₂O --> H₁₀Si₁₀O₁₅ + HCl \n"
     ]
    }
   ],
   "source": [
    "r1 = Compound(\"HSiCl3\")\n",
    "r2 = Compound(\"H2O\")\n",
    "p1 = Compound(\"H10Si10O15\")\n",
    "p2 = Compound(\"HCl\")\n",
    "reaction = Reaction(r1, r2, \"-->\", p1, p2)\n",
    "print(reaction)"
   ]
  },
  {
   "cell_type": "markdown",
   "metadata": {},
   "source": [
    "The reaction is automatically balanced and can be accessed as an attribute, along with the sum of the coefficients. If necessary, the reactants and products of the reaction can also be accessed as lists."
   ]
  },
  {
   "cell_type": "code",
   "execution_count": 3,
   "metadata": {
    "pycharm": {
     "name": "#%%\n"
    }
   },
   "outputs": [
    {
     "name": "stdout",
     "output_type": "stream",
     "text": [
      "10HSiCl₃ + 15H₂O --> H₁₀Si₁₀O₁₅ + 30HCl \n",
      "56\n",
      "['HSiCl3', 'H2O']\n",
      "['H10Si10O15', 'HCl']\n"
     ]
    }
   ],
   "source": [
    "print(reaction.balanced_reaction)\n",
    "print(reaction.coefficient_sum)\n",
    "print(reaction.reactants)\n",
    "print(reaction.products)"
   ]
  },
  {
   "cell_type": "markdown",
   "metadata": {},
   "source": [
    "To calculate the limiting reagent, you should provide the quantities of the reactants (either moles or grams) in the original compound classes, and set the lim_calc parameter to True. The limiting reactant will be accessible as  an attribute."
   ]
  },
  {
   "cell_type": "code",
   "execution_count": 4,
   "metadata": {
    "pycharm": {
     "name": "#%%\n"
    }
   },
   "outputs": [
    {
     "name": "stdout",
     "output_type": "stream",
     "text": [
      "3KOH + H₃PO₄ --> K₃PO₄ + 3H₂O \n",
      "KOH\n"
     ]
    }
   ],
   "source": [
    "r1 = Compound(\"KOH\", grams = 36.7)\n",
    "r2 = Compound(\"H3PO4\", grams = 112.7)\n",
    "p1 = Compound(\"K3PO4\")\n",
    "p2 = Compound(\"H2O\")\n",
    "reaction = Reaction(r1, r2, \"-->\", p1, p2, lim_calc = True)\n",
    "print(reaction.balanced_reaction)\n",
    "print(reaction.limiting_reactant)"
   ]
  },
  {
   "cell_type": "markdown",
   "metadata": {},
   "source": [
    "## CombustionTrain\n",
    "The *CombustionTrain* class is used to determine the main reactant of a combustion reaction when knowing the masses of the products. Unlike the regular Reaction class, it only accepts 2 parameters, $\\mathrm{CO}_{2}$ and $\\mathrm{H}_2\\mathrm{O}$. Two special Compound subclasses exist, CarbonDioxide and Water, which only require you to input the amount of grams or moles, as the compound itself will be automatically initialized.. The class will calculate the main compound and then work like a regular Reaction class. As with most combustion reactions, there will be an assumption of an excess of $\\mathrm{O}_2$ and therefore the limiting reactant will always be the calculated compound."
   ]
  },
  {
   "cell_type": "code",
   "execution_count": 5,
   "metadata": {},
   "outputs": [
    {
     "name": "stdout",
     "output_type": "stream",
     "text": [
      "C₅H₁₂\n",
      "C₅H₁₂ + O₂ --> CO₂ + H₂O \n",
      "C₅H₁₂ + 8O₂ --> 5CO₂ + 6H₂O \n",
      "C₅H₁₂\n"
     ]
    }
   ],
   "source": [
    "from chemsolve import CombustionTrain\n",
    "from chemsolve import CarbonDioxide, Water\n",
    "carbon_dioxide = CarbonDioxide(grams = 38.196)\n",
    "water = Water(grams = 18.752)\n",
    "combustion = CombustionTrain(carbon_dioxide, water)\n",
    "print(combustion.main_reactant)\n",
    "print(combustion)\n",
    "print(combustion.balanced_reaction)\n",
    "print(combustion.limiting_reactant)"
   ]
  },
  {
   "cell_type": "markdown",
   "metadata": {},
   "source": [
    "In the case in which the main compound also contains oxygen atoms, you must also provide the total mass of the sample in the CombustionTrain instance and change the hydrocarbon parameter to False. Aside from that the main compound will also include oxygen atoms, the class will work in the same way."
   ]
  },
  {
   "cell_type": "code",
   "execution_count": 6,
   "metadata": {
    "pycharm": {
     "name": "#%%\n"
    }
   },
   "outputs": [
    {
     "name": "stdout",
     "output_type": "stream",
     "text": [
      "C₃H₄O₃\n",
      "C₃H₄O₃ + O₂ --> CO₂ + H₂O \n",
      "2C₃H₄O₃ + 5O₂ --> 6CO₂ + 4H₂O \n",
      "C₃H₄O₃\n"
     ]
    }
   ],
   "source": [
    "# We can update the compounds in an instance.\n",
    "carbon_dioxide(grams = 3.00)\n",
    "water(grams = 0.816)\n",
    "combustion = CombustionTrain(carbon_dioxide, water, hydrocarbon = False, sample_mass = 2.00)\n",
    "print(combustion.main_reactant)\n",
    "print(combustion)\n",
    "print(combustion.balanced_reaction)\n",
    "print(combustion.limiting_reactant)"
   ]
  },
  {
   "cell_type": "markdown",
   "source": [
    "If you have a combustion reaction which also contains another element or *(at least for the moment)* an *oxide* compound, you can use enter it as another element/compound into the reaction. You will have to set the parameter othercompound to True when using it. "
   ],
   "metadata": {
    "collapsed": false
   }
  },
  {
   "cell_type": "code",
   "execution_count": 7,
   "outputs": [
    {
     "name": "stdout",
     "output_type": "stream",
     "text": [
      "C₄H₅ClO₂\n",
      "4C₄H₅ClO₂ + 17O₂ --> 16CO₂ + 10H₂O + 4Cl \n",
      "C₄H₅ClO₂\n"
     ]
    }
   ],
   "source": [
    "from chemsolve import Element\n",
    "carbon_dioxide(grams = 58.57)\n",
    "water(grams = 14.98)\n",
    "chlorine = Element(\"Cl\", grams = 11.7947)\n",
    "combustion = CombustionTrain(carbon_dioxide, water, chlorine, hydrocarbon = False, othercompound = True, sample_mass = 40.010)\n",
    "print(combustion.main_reactant)\n",
    "print(combustion.balanced_reaction)\n",
    "print(combustion.limiting_reactant)\n",
    "\n",
    "\n"
   ],
   "metadata": {
    "collapsed": false,
    "pycharm": {
     "name": "#%%\n"
    }
   }
  },
  {
   "cell_type": "code",
   "execution_count": null,
   "metadata": {},
   "outputs": [],
   "source": []
  }
 ],
 "metadata": {
  "kernelspec": {
   "display_name": "Python 3",
   "language": "python",
   "name": "python3"
  },
  "language_info": {
   "codemirror_mode": {
    "name": "ipython",
    "version": 3
   },
   "file_extension": ".py",
   "mimetype": "text/x-python",
   "name": "python",
   "nbconvert_exporter": "python",
   "pygments_lexer": "ipython3",
   "version": "3.8.3"
  }
 },
 "nbformat": 4,
 "nbformat_minor": 1
}