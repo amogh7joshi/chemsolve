{
 "cells": [
  {
   "cell_type": "markdown",
   "metadata": {
    "pycharm": {
     "name": "#%%\n"
    }
   },
   "source": [
    "# Compound\n",
    "The features of the *Compound* class and the relevant *FormulaCompound* subclass.\n"
   ]
  },
  {
   "cell_type": "code",
   "execution_count": 1,
   "metadata": {
    "pycharm": {
     "name": "#%%\n"
    }
   },
   "outputs": [],
   "source": [
    "from chemsolve import Compound"
   ]
  },
  {
   "cell_type": "markdown",
   "metadata": {},
   "source": [
    "Similar to the Element class, an instance of the Compound class can be made through the formula of the compound. *(In a future update, name initializing will be added).* The class has attributes of mass, a list of elements in the compound, and formatted and unformatted versions of the compound's formula (i.e., numbers and LaTeX)."
   ]
  },
  {
   "cell_type": "code",
   "execution_count": 2,
   "metadata": {
    "pycharm": {
     "name": "#%%\n"
    }
   },
   "outputs": [
    {
     "name": "stdout",
     "output_type": "stream",
     "text": [
      "331.2098\n",
      "{'Pb': 1, 'N': 2, 'O': 6}\n",
      "Pb(NO₃)₂\n",
      "Pb(NO3)2\n"
     ]
    }
   ],
   "source": [
    "lead_nitrate = Compound(\"Pb(NO3)2\")\n",
    "print(lead_nitrate.mass)\n",
    "print(lead_nitrate.compound_elements)\n",
    "print(lead_nitrate)\n",
    "print(lead_nitrate.print_compound)"
   ]
  },
  {
   "cell_type": "markdown",
   "metadata": {},
   "source": [
    "The compound can be initialized with a mole or gram value. The other respective value will automatically be initialized in the class. These values can either be added, removed, or updated, by calling the class."
   ]
  },
  {
   "cell_type": "code",
   "execution_count": 3,
   "metadata": {
    "pycharm": {
     "name": "#%%\n"
    }
   },
   "outputs": [
    {
     "name": "stdout",
     "output_type": "stream",
     "text": [
      "1.5\n",
      "27.0577\n",
      "0.2495\n",
      "4.5\n"
     ]
    }
   ],
   "source": [
    "ammonium = Compound(\"NH4\", moles = 1.50)\n",
    "print(ammonium.mole_amount)\n",
    "print(ammonium.gram_amount)\n",
    "ammonium(grams = 4.50)\n",
    "print(ammonium.mole_amount)\n",
    "print(ammonium.gram_amount)"
   ]
  },
  {
   "cell_type": "markdown",
   "metadata": {},
   "source": [
    "Additionally, (although this might be obvious from the compound's formula), you can find how many moles of a certain element or ion will be inside of 1 mole of the compound. You can also find out what percent of the compound is made up by one of the elements in it."
   ]
  },
  {
   "cell_type": "code",
   "execution_count": 4,
   "metadata": {
    "pycharm": {
     "name": "#%%\n"
    }
   },
   "outputs": [
    {
     "name": "stdout",
     "output_type": "stream",
     "text": [
      "2\n",
      "0.8881\n"
     ]
    }
   ],
   "source": [
    "water = Compound(\"H2O\")\n",
    "print(water.moles_in_compound(\"H\"))\n",
    "print(water.percent_in_compound(\"O\"))"
   ]
  },
  {
   "cell_type": "markdown",
   "metadata": {
    "pycharm": {
     "is_executing": true
    }
   },
   "source": [
    "## FormulaCompound\n",
    "##### Note: The FormulaCompound class will be removed in version 2.0.0, begin using Compound.from_formula() instead.\n",
    "The *FormulaCompound* class is used to determine the empirical and molecular formulas of a compound from the quantities of the elements within it. The **SpecialElement** class must be used to define elements within the compound, which has the same properties as the element class in addition to a percentage alongside moles and grams. To initialize the FormulaCompound class, create as many SpecialElement classes as are in the compound in question and add them to the FormulaCompound class instance.\n",
    "\n",
    "##### Note: The SpecialElement class will be removed in version 2.0.0, begin using the regular Element class instead."
   ]
  },
  {
   "cell_type": "code",
   "execution_count": 5,
   "metadata": {},
   "outputs": [
    {
     "name": "stdout",
     "output_type": "stream",
     "text": [
      "C₁₄H₁₈N₂O₅\n"
     ]
    }
   ],
   "source": [
    "from chemsolve import SpecialElement, FormulaCompound\n",
    "carbon = SpecialElement(\"C\", percent = 0.5714)\n",
    "hydrogen = SpecialElement(\"H\", percent = 0.0616)\n",
    "nitrogen = SpecialElement(\"N\", percent = 0.0952)\n",
    "oxygen = SpecialElement(\"O\", percent = 0.2718)\n",
    "compound = FormulaCompound(carbon, hydrogen, nitrogen, oxygen)\n",
    "print(compound)"
   ]
  },
  {
   "cell_type": "markdown",
   "metadata": {},
   "source": [
    "Once the compound's formula has been calculated, it has the same attributes as the regular Compound class and can be used in the same way."
   ]
  },
  {
   "cell_type": "code",
   "execution_count": 6,
   "metadata": {
    "pycharm": {
     "name": "#%%\n"
    }
   },
   "outputs": [
    {
     "name": "stdout",
     "output_type": "stream",
     "text": [
      "294.30312\n",
      "{'C': 14, 'H': 18, 'N': 2, 'O': 5}\n",
      "C14H18N2O5\n",
      "14\n",
      "0.2718\n"
     ]
    }
   ],
   "source": [
    "print(compound.mass)\n",
    "print(compound.compound_elements)\n",
    "print(compound.print_compound)\n",
    "print(compound.moles_in_compound('C'))\n",
    "print(compound.percent_in_compound('O'))"
   ]
  },
  {
   "cell_type": "markdown",
   "metadata": {
    "pycharm": {
     "name": "#%%\n"
    }
   },
   "source": [
    "If you want to find a molecular formula for the compound, then add a mass parameter to the FormulaCompound instance itself and set the 'molecular' parameter to True, and the class will automatically set it to a molecular formula. You will still be able to access the empirical formula as an attribute."
   ]
  },
  {
   "cell_type": "code",
   "execution_count": 7,
   "metadata": {
    "pycharm": {
     "name": "#%%\n"
    }
   },
   "outputs": [
    {
     "name": "stdout",
     "output_type": "stream",
     "text": [
      "C₁₅N₃H₁₅\n",
      "C₅NH₅\n"
     ]
    }
   ],
   "source": [
    "carbon = SpecialElement(\"C\", percent = 0.7595)\n",
    "nitrogen = SpecialElement(\"N\", percent = 0.1772)\n",
    "hydrogen = SpecialElement(\"H\", percent = 0.0633)\n",
    "compound = FormulaCompound(carbon, nitrogen, hydrogen, molecular = True, mass = 240)\n",
    "print(compound)\n",
    "print(compound.empirical)"
   ]
  },
  {
   "cell_type": "markdown",
   "metadata": {
    "pycharm": {
     "is_executing": true,
     "name": "#%% md\n"
    }
   },
   "source": [
    "*Currently, all Compound classes print out compounds with their elements listed in a close-to-perfect order, this will be further improved over time.*"
   ]
  }
 ],
 "metadata": {
  "kernelspec": {
   "display_name": "Python 3",
   "language": "python",
   "name": "python3"
  },
  "language_info": {
   "codemirror_mode": {
    "name": "ipython",
    "version": 3
   },
   "file_extension": ".py",
   "mimetype": "text/x-python",
   "name": "python",
   "nbconvert_exporter": "python",
   "pygments_lexer": "ipython3",
   "version": "3.8.3"
  }
 },
 "nbformat": 4,
 "nbformat_minor": 1
}